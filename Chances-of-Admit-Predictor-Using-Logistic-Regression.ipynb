{
 "cells": [
  {
   "cell_type": "markdown",
   "metadata": {},
   "source": [
    "## Importing Required Packages"
   ]
  },
  {
   "cell_type": "code",
   "execution_count": 1,
   "metadata": {},
   "outputs": [],
   "source": [
    "import pandas as pd\n",
    "import numpy as np\n",
    "from sklearn import datasets\n",
    "import matplotlib.pyplot as plt\n",
    "from sklearn.linear_model import LogisticRegression\n",
    "from sklearn import metrics\n",
    "from scipy.stats import spearmanr"
   ]
  },
  {
   "cell_type": "markdown",
   "metadata": {},
   "source": [
    "## Reading the dataset"
   ]
  },
  {
   "cell_type": "code",
   "execution_count": 2,
   "metadata": {},
   "outputs": [
    {
     "data": {
      "text/html": [
       "<div>\n",
       "<style scoped>\n",
       "    .dataframe tbody tr th:only-of-type {\n",
       "        vertical-align: middle;\n",
       "    }\n",
       "\n",
       "    .dataframe tbody tr th {\n",
       "        vertical-align: top;\n",
       "    }\n",
       "\n",
       "    .dataframe thead th {\n",
       "        text-align: right;\n",
       "    }\n",
       "</style>\n",
       "<table border=\"1\" class=\"dataframe\">\n",
       "  <thead>\n",
       "    <tr style=\"text-align: right;\">\n",
       "      <th></th>\n",
       "      <th>Serial No.</th>\n",
       "      <th>GRE</th>\n",
       "      <th>TOEFL</th>\n",
       "      <th>UR</th>\n",
       "      <th>SOP</th>\n",
       "      <th>LOR</th>\n",
       "      <th>CGPA</th>\n",
       "      <th>Research</th>\n",
       "      <th>COA</th>\n",
       "    </tr>\n",
       "  </thead>\n",
       "  <tbody>\n",
       "    <tr>\n",
       "      <th>0</th>\n",
       "      <td>1</td>\n",
       "      <td>337</td>\n",
       "      <td>118</td>\n",
       "      <td>4</td>\n",
       "      <td>4.5</td>\n",
       "      <td>4.5</td>\n",
       "      <td>9.65</td>\n",
       "      <td>1</td>\n",
       "      <td>0.92</td>\n",
       "    </tr>\n",
       "    <tr>\n",
       "      <th>1</th>\n",
       "      <td>2</td>\n",
       "      <td>324</td>\n",
       "      <td>107</td>\n",
       "      <td>4</td>\n",
       "      <td>4.0</td>\n",
       "      <td>4.5</td>\n",
       "      <td>8.87</td>\n",
       "      <td>1</td>\n",
       "      <td>0.76</td>\n",
       "    </tr>\n",
       "    <tr>\n",
       "      <th>2</th>\n",
       "      <td>3</td>\n",
       "      <td>316</td>\n",
       "      <td>104</td>\n",
       "      <td>3</td>\n",
       "      <td>3.0</td>\n",
       "      <td>3.5</td>\n",
       "      <td>8.00</td>\n",
       "      <td>1</td>\n",
       "      <td>0.72</td>\n",
       "    </tr>\n",
       "    <tr>\n",
       "      <th>3</th>\n",
       "      <td>4</td>\n",
       "      <td>322</td>\n",
       "      <td>110</td>\n",
       "      <td>3</td>\n",
       "      <td>3.5</td>\n",
       "      <td>2.5</td>\n",
       "      <td>8.67</td>\n",
       "      <td>1</td>\n",
       "      <td>0.80</td>\n",
       "    </tr>\n",
       "    <tr>\n",
       "      <th>4</th>\n",
       "      <td>5</td>\n",
       "      <td>314</td>\n",
       "      <td>103</td>\n",
       "      <td>2</td>\n",
       "      <td>2.0</td>\n",
       "      <td>3.0</td>\n",
       "      <td>8.21</td>\n",
       "      <td>0</td>\n",
       "      <td>0.65</td>\n",
       "    </tr>\n",
       "  </tbody>\n",
       "</table>\n",
       "</div>"
      ],
      "text/plain": [
       "   Serial No.  GRE  TOEFL  UR  SOP  LOR  CGPA  Research   COA\n",
       "0           1  337    118   4  4.5  4.5  9.65         1  0.92\n",
       "1           2  324    107   4  4.0  4.5  8.87         1  0.76\n",
       "2           3  316    104   3  3.0  3.5  8.00         1  0.72\n",
       "3           4  322    110   3  3.5  2.5  8.67         1  0.80\n",
       "4           5  314    103   2  2.0  3.0  8.21         0  0.65"
      ]
     },
     "execution_count": 2,
     "metadata": {},
     "output_type": "execute_result"
    }
   ],
   "source": [
    "grad = pd.read_csv('Admission_Predict.csv')\n",
    "grad.head()"
   ]
  },
  {
   "cell_type": "markdown",
   "metadata": {},
   "source": [
    "## Visualization using Scatter plots\n",
    "\n",
    "The following set of Scatter Plots show the correlation that each input features shares with the target feature."
   ]
  },
  {
   "cell_type": "code",
   "execution_count": 3,
   "metadata": {},
   "outputs": [
    {
     "data": {
      "text/plain": [
       "Text(0.09, 0.5, 'Chances of Admit(Probability between 0 and 1)')"
      ]
     },
     "execution_count": 3,
     "metadata": {},
     "output_type": "execute_result"
    },
    {
     "data": {
      "image/png": "[encoded data removed]",
      "text/plain": [
       "<Figure size 1440x720 with 8 Axes>"
      ]
     },
     "metadata": {
      "needs_background": "light"
     },
     "output_type": "display_data"
    }
   ],
   "source": [
    "plt.rcParams['figure.figsize'] = 20,10\n",
    "fig, ax = plt.subplots(2, 4)\n",
    "\n",
    "ax[0,0].scatter(grad['GRE'], grad['COA'])\n",
    "ax[0,0].set_title('GRE vs COA')\n",
    "ax[0,0].set_xlabel('GRE Score(260-340)')\n",
    "\n",
    "ax[0,1].scatter(grad['TOEFL'], grad['COA'])\n",
    "ax[0,1].set_title('TOEFL vs COA')\n",
    "ax[0,1].set_xlabel('TOEFL Score(0-120)')\n",
    "\n",
    "ax[0,2].scatter(grad['UR'], grad['COA'])\n",
    "ax[0,2].set_title('UR vs COA')\n",
    "ax[0,2].set_xlabel('University Ranking(1-5 where 5 is \"High\")')\n",
    "\n",
    "ax[0,3].scatter(grad['SOP'], grad['COA'])\n",
    "ax[0,3].set_title('SOP vs COA')\n",
    "ax[0,3].set_xlabel('SOP Strength(1-5 where 5 is \"High\")')\n",
    "\n",
    "ax[1,0].scatter(grad['LOR'], grad['COA'])\n",
    "ax[1,0].set_title('LOR vs COA')\n",
    "ax[1,0].set_xlabel('LOR Strength(1-5 where 5 is \"High\")')\n",
    "\n",
    "ax[1,1].scatter(grad['CGPA'], grad['COA'])\n",
    "ax[1,1].set_title('CGPA vs COA')\n",
    "ax[1,1].set_xlabel('Cummulative Grade Point Average(On a 10-pt scale)')\n",
    "\n",
    "ax[1,2].scatter(grad['Research'], grad['COA'])\n",
    "ax[1,2].set_title('Research vs COA')\n",
    "ax[1,2].set_xlabel('Research Experience(0 if no experience, and 1 otherwise)')\n",
    "\n",
    "ax[1,3].axis('off')\n",
    "\n",
    "fig.text(0.09, 0.5, 'Chances of Admit(Probability between 0 and 1)', va='center', rotation='vertical', fontsize='x-large')"
   ]
  },
  {
   "cell_type": "markdown",
   "metadata": {},
   "source": [
    "The scatter plots show a strong positive correlation between all input features and the target vector. However, this is a subjective approach of comparision and in order to gain a quantitative measure the spearman rank matrix is calculated in the following steps. "
   ]
  },
  {
   "cell_type": "markdown",
   "metadata": {},
   "source": [
    "## Spearman Rank Correlation Matrix\n",
    "\n",
    "The Spearman Rank Correlation Matrix is calculated. In these steps, the correlation rank of all features are calculated with one another. The rank is a decimal no. in between -1 and 1 and a rank of 0 indicates no correlation.<br>\n",
    "As the magnitude of the rank increases, the correlation increases. The sign of the rank denotes the direction of correlation. A positive rank means that both the features are proportional. A negative rank indicates that both the features are inversely proportional."
   ]
  },
  {
   "cell_type": "code",
   "execution_count": 4,
   "metadata": {},
   "outputs": [],
   "source": [
    "input_feature_list = list(grad.columns[1:9])\n",
    "#input_feature_list"
   ]
  },
  {
   "cell_type": "code",
   "execution_count": 5,
   "metadata": {},
   "outputs": [],
   "source": [
    "spearman_mat = [[0 for i in range(0, 9)] for j in range(0, 9)]\n",
    "#spearman_mat"
   ]
  },
  {
   "cell_type": "code",
   "execution_count": 6,
   "metadata": {},
   "outputs": [],
   "source": [
    "for i in range(1,9):\n",
    "    spearman_mat[0][i] = input_feature_list[i-1]\n",
    "for i in range(1,9):\n",
    "    spearman_mat[i][0] = input_feature_list[i-1]\n",
    "#spearman_mat"
   ]
  },
  {
   "cell_type": "code",
   "execution_count": 7,
   "metadata": {},
   "outputs": [],
   "source": [
    "for i in range(1, 9):\n",
    "    for j in range(i+1, 9):\n",
    "        spearman_coeff, p_value = spearmanr(grad[input_feature_list[i-1]], grad[input_feature_list[j-1]])\n",
    "        spearman_mat[i][j] = spearman_mat[j][i] = round(spearman_coeff,3)\n",
    "    \n",
    "#spearman_mat"
   ]
  },
  {
   "cell_type": "code",
   "execution_count": 8,
   "metadata": {},
   "outputs": [
    {
     "data": {
      "text/html": [
       "<div>\n",
       "<style scoped>\n",
       "    .dataframe tbody tr th:only-of-type {\n",
       "        vertical-align: middle;\n",
       "    }\n",
       "\n",
       "    .dataframe tbody tr th {\n",
       "        vertical-align: top;\n",
       "    }\n",
       "\n",
       "    .dataframe thead th {\n",
       "        text-align: right;\n",
       "    }\n",
       "</style>\n",
       "<table border=\"1\" class=\"dataframe\">\n",
       "  <thead>\n",
       "    <tr style=\"text-align: right;\">\n",
       "      <th></th>\n",
       "      <th>GRE</th>\n",
       "      <th>TOEFL</th>\n",
       "      <th>UR</th>\n",
       "      <th>SOP</th>\n",
       "      <th>LOR</th>\n",
       "      <th>CGPA</th>\n",
       "      <th>Research</th>\n",
       "      <th>COA</th>\n",
       "    </tr>\n",
       "  </thead>\n",
       "  <tbody>\n",
       "    <tr>\n",
       "      <th>GRE</th>\n",
       "      <td>0.000</td>\n",
       "      <td>0.832</td>\n",
       "      <td>0.676</td>\n",
       "      <td>0.614</td>\n",
       "      <td>0.548</td>\n",
       "      <td>0.832</td>\n",
       "      <td>0.596</td>\n",
       "      <td>0.815</td>\n",
       "    </tr>\n",
       "    <tr>\n",
       "      <th>TOEFL</th>\n",
       "      <td>0.832</td>\n",
       "      <td>0.000</td>\n",
       "      <td>0.697</td>\n",
       "      <td>0.653</td>\n",
       "      <td>0.549</td>\n",
       "      <td>0.826</td>\n",
       "      <td>0.504</td>\n",
       "      <td>0.796</td>\n",
       "    </tr>\n",
       "    <tr>\n",
       "      <th>UR</th>\n",
       "      <td>0.676</td>\n",
       "      <td>0.697</td>\n",
       "      <td>0.000</td>\n",
       "      <td>0.740</td>\n",
       "      <td>0.653</td>\n",
       "      <td>0.751</td>\n",
       "      <td>0.454</td>\n",
       "      <td>0.732</td>\n",
       "    </tr>\n",
       "    <tr>\n",
       "      <th>SOP</th>\n",
       "      <td>0.614</td>\n",
       "      <td>0.653</td>\n",
       "      <td>0.740</td>\n",
       "      <td>0.000</td>\n",
       "      <td>0.727</td>\n",
       "      <td>0.724</td>\n",
       "      <td>0.444</td>\n",
       "      <td>0.695</td>\n",
       "    </tr>\n",
       "    <tr>\n",
       "      <th>LOR</th>\n",
       "      <td>0.548</td>\n",
       "      <td>0.549</td>\n",
       "      <td>0.653</td>\n",
       "      <td>0.727</td>\n",
       "      <td>0.000</td>\n",
       "      <td>0.666</td>\n",
       "      <td>0.400</td>\n",
       "      <td>0.671</td>\n",
       "    </tr>\n",
       "    <tr>\n",
       "      <th>CGPA</th>\n",
       "      <td>0.832</td>\n",
       "      <td>0.826</td>\n",
       "      <td>0.751</td>\n",
       "      <td>0.724</td>\n",
       "      <td>0.666</td>\n",
       "      <td>0.000</td>\n",
       "      <td>0.530</td>\n",
       "      <td>0.878</td>\n",
       "    </tr>\n",
       "    <tr>\n",
       "      <th>Research</th>\n",
       "      <td>0.596</td>\n",
       "      <td>0.504</td>\n",
       "      <td>0.454</td>\n",
       "      <td>0.444</td>\n",
       "      <td>0.400</td>\n",
       "      <td>0.530</td>\n",
       "      <td>0.000</td>\n",
       "      <td>0.582</td>\n",
       "    </tr>\n",
       "    <tr>\n",
       "      <th>COA</th>\n",
       "      <td>0.815</td>\n",
       "      <td>0.796</td>\n",
       "      <td>0.732</td>\n",
       "      <td>0.695</td>\n",
       "      <td>0.671</td>\n",
       "      <td>0.878</td>\n",
       "      <td>0.582</td>\n",
       "      <td>0.000</td>\n",
       "    </tr>\n",
       "  </tbody>\n",
       "</table>\n",
       "</div>"
      ],
      "text/plain": [
       "            GRE  TOEFL     UR    SOP    LOR   CGPA  Research    COA\n",
       "GRE       0.000  0.832  0.676  0.614  0.548  0.832     0.596  0.815\n",
       "TOEFL     0.832  0.000  0.697  0.653  0.549  0.826     0.504  0.796\n",
       "UR        0.676  0.697  0.000  0.740  0.653  0.751     0.454  0.732\n",
       "SOP       0.614  0.653  0.740  0.000  0.727  0.724     0.444  0.695\n",
       "LOR       0.548  0.549  0.653  0.727  0.000  0.666     0.400  0.671\n",
       "CGPA      0.832  0.826  0.751  0.724  0.666  0.000     0.530  0.878\n",
       "Research  0.596  0.504  0.454  0.444  0.400  0.530     0.000  0.582\n",
       "COA       0.815  0.796  0.732  0.695  0.671  0.878     0.582  0.000"
      ]
     },
     "execution_count": 8,
     "metadata": {},
     "output_type": "execute_result"
    }
   ],
   "source": [
    "spearman_df = pd.DataFrame(index=input_feature_list)\n",
    "for i in range(0, len(input_feature_list)):\n",
    "    spearman_df[input_feature_list[i]] = spearman_mat[i+1][1:]\n",
    "spearman_df"
   ]
  },
  {
   "cell_type": "markdown",
   "metadata": {},
   "source": [
    "The ranks are calculated and stored in a 2D array (Matrix) and the values are then copied into a pandas dataframe to make it more visually convenient to interpret. The values indicate a clear strong(>=0.5) positive correlation between all input features and the target feature(COA)."
   ]
  },
  {
   "cell_type": "markdown",
   "metadata": {},
   "source": [
    "## Training Dataset\n",
    "The first 350 tuples are used for training and the values in target feature(COA), stored in dataframe named **y_train_df**, are encoded. "
   ]
  },
  {
   "cell_type": "code",
   "execution_count": 9,
   "metadata": {},
   "outputs": [],
   "source": [
    "grad_train = grad.iloc[:350, 1:9]\n",
    "#grad_train"
   ]
  },
  {
   "cell_type": "code",
   "execution_count": 10,
   "metadata": {},
   "outputs": [],
   "source": [
    "X_train = grad_train.iloc[:, 0:7]\n",
    "y_train_df = pd.DataFrame(grad_train.iloc[:, 7])"
   ]
  },
  {
   "cell_type": "markdown",
   "metadata": {},
   "source": [
    "## Encoding of training target feature\n",
    "The target feature is encoded into 3 categories:\n",
    "- Class 0 - AMBITIOUS\n",
    "- Class 1 - REALISTIC\n",
    "- Class 2 - SAFE"
   ]
  },
  {
   "cell_type": "code",
   "execution_count": 11,
   "metadata": {},
   "outputs": [],
   "source": [
    "# AMBITIOUS\n",
    "y_train_df[y_train_df['COA']<=0.5] = 0"
   ]
  },
  {
   "cell_type": "code",
   "execution_count": 12,
   "metadata": {},
   "outputs": [],
   "source": [
    "# REALISTIC\n",
    "y_train_df[y_train_df['COA']>0.5] = 1"
   ]
  },
  {
   "cell_type": "code",
   "execution_count": 13,
   "metadata": {},
   "outputs": [],
   "source": [
    "# SAFE\n",
    "y_train_df[y_train_df['COA']>0.85] = 2"
   ]
  },
  {
   "cell_type": "markdown",
   "metadata": {},
   "source": [
    "The target feature training dataframe is converted to a pandas Series for training the model without errors."
   ]
  },
  {
   "cell_type": "code",
   "execution_count": 14,
   "metadata": {},
   "outputs": [],
   "source": [
    "y_train = pd.Series(y_train_df['COA'])"
   ]
  },
  {
   "cell_type": "markdown",
   "metadata": {},
   "source": [
    "## Testing Dataset\n",
    "The last 50 tuples are used for testing and the values in target feature(COA), stored in dataframe named **y_test_df**, are encoded. "
   ]
  },
  {
   "cell_type": "code",
   "execution_count": 15,
   "metadata": {},
   "outputs": [],
   "source": [
    "grad_test = grad.iloc[350:, 1:9]\n",
    "#grad_test"
   ]
  },
  {
   "cell_type": "code",
   "execution_count": 16,
   "metadata": {},
   "outputs": [],
   "source": [
    "X_test = grad_test.iloc[:, 0:7]\n",
    "y_test_df = pd.DataFrame(grad_test.iloc[:, 7])"
   ]
  },
  {
   "cell_type": "markdown",
   "metadata": {},
   "source": [
    "## Encoding of testing target feature\n",
    "The target feature is encoded into 3 categories:\n",
    "- Class 0 - AMBITIOUS\n",
    "- Class 1 - REALISTIC\n",
    "- Class 2 - SAFE"
   ]
  },
  {
   "cell_type": "code",
   "execution_count": 17,
   "metadata": {},
   "outputs": [],
   "source": [
    "# AMBITIOUS\n",
    "y_test_df[y_test_df['COA']<=0.5] = 0"
   ]
  },
  {
   "cell_type": "code",
   "execution_count": 18,
   "metadata": {},
   "outputs": [],
   "source": [
    "# REALISTIC\n",
    "y_test_df[y_test_df['COA']>0.5] = 1"
   ]
  },
  {
   "cell_type": "code",
   "execution_count": 19,
   "metadata": {},
   "outputs": [],
   "source": [
    "# SAFE\n",
    "y_test_df[y_test_df['COA']>0.85] = 2"
   ]
  },
  {
   "cell_type": "markdown",
   "metadata": {},
   "source": [
    "The target feature training dataframe is converted to a pandas Series for training the model without errors."
   ]
  },
  {
   "cell_type": "code",
   "execution_count": 20,
   "metadata": {},
   "outputs": [],
   "source": [
    "y_test = pd.Series(y_test_df['COA'])\n",
    "#y_test_cpy"
   ]
  },
  {
   "cell_type": "markdown",
   "metadata": {},
   "source": [
    "## Logistic Regression Model"
   ]
  },
  {
   "cell_type": "markdown",
   "metadata": {},
   "source": [
    "The model is instantiated and fit on the input features dataframe and the target feature(COA) Series."
   ]
  },
  {
   "cell_type": "code",
   "execution_count": 21,
   "metadata": {},
   "outputs": [],
   "source": [
    "logReg = LogisticRegression()"
   ]
  },
  {
   "cell_type": "code",
   "execution_count": 22,
   "metadata": {},
   "outputs": [
    {
     "name": "stderr",
     "output_type": "stream",
     "text": [
      "C:\\Users\\Yashveer\\AppData\\Roaming\\Python\\Python37\\site-packages\\sklearn\\linear_model\\_logistic.py:939: ConvergenceWarning: lbfgs failed to converge (status=1):\n",
      "STOP: TOTAL NO. of ITERATIONS REACHED LIMIT.\n",
      "\n",
      "Increase the number of iterations (max_iter) or scale the data as shown in:\n",
      "    https://scikit-learn.org/stable/modules/preprocessing.html.\n",
      "Please also refer to the documentation for alternative solver options:\n",
      "    https://scikit-learn.org/stable/modules/linear_model.html#logistic-regression\n",
      "  extra_warning_msg=_LOGISTIC_SOLVER_CONVERGENCE_MSG)\n"
     ]
    }
   ],
   "source": [
    "model = logReg.fit(X_train, y_train)"
   ]
  },
  {
   "cell_type": "markdown",
   "metadata": {},
   "source": [
    "The model is used to predict COA(Chances of Admit) for the testing input features dataframe. These predictions are compared with the testing target features Series. The comparision is done using sklearn's metrics module."
   ]
  },
  {
   "cell_type": "code",
   "execution_count": 23,
   "metadata": {},
   "outputs": [],
   "source": [
    "prediction = model.predict(X_test)\n",
    "#prediction"
   ]
  },
  {
   "cell_type": "code",
   "execution_count": 24,
   "metadata": {},
   "outputs": [
    {
     "name": "stdout",
     "output_type": "stream",
     "text": [
      "Mean Absolute Error: 0.28\n",
      "Mean Squared Error: 0.56\n",
      "Root Mean Squared Error: 0.7483314773547883\n"
     ]
    }
   ],
   "source": [
    "print('Mean Absolute Error:', metrics.mean_absolute_error(y_test, prediction))  \n",
    "print('Mean Squared Error:', metrics.mean_squared_error(y_test, prediction))  \n",
    "print('Root Mean Squared Error:', np.sqrt(metrics.mean_squared_error(y_test, prediction)))"
   ]
  },
  {
   "cell_type": "markdown",
   "metadata": {},
   "source": [
    "The errors seem resonably low which means that the model had adequate performance. "
   ]
  },
  {
   "cell_type": "markdown",
   "metadata": {},
   "source": [
    "## Predicting Chances of Admit for User Input\n",
    "In this last section the model is used to predict the Chances of Admit(COA) for a user's profile."
   ]
  },
  {
   "cell_type": "code",
   "execution_count": 25,
   "metadata": {},
   "outputs": [],
   "source": [
    "input_vector = pd.DataFrame(columns=input_feature_list[0:7])\n",
    "#input_vector"
   ]
  },
  {
   "cell_type": "markdown",
   "metadata": {},
   "source": [
    "## INPUT YOUR PROFILE - "
   ]
  },
  {
   "cell_type": "code",
   "execution_count": 26,
   "metadata": {},
   "outputs": [
    {
     "name": "stdout",
     "output_type": "stream",
     "text": [
      "ENTER GRE SCORE (out of 340) - 332\n",
      "ENTER TOEFL SCORE (out of 120) - 113\n",
      "ENTER UNIVERSITY RANKING (out of 5) - 4\n",
      "ENTER SOP STRENGTH (out of 5) - 4\n",
      "ENTER LOR STRENGTH (out of 5) - 4\n",
      "ENTER CGPA SCORE (out of 10) - 9.03\n",
      "ENTER 1 IF RESEARCH PAPERS ARE PUBLISHED. ENTER 0 OTHERWISE - 0\n",
      "\n",
      "The Chances of Your Admit are : SAFE\n"
     ]
    }
   ],
   "source": [
    "GRE = int(input(\"ENTER GRE SCORE (out of 340) - \"))\n",
    "TOEFL = int(input(\"ENTER TOEFL SCORE (out of 120) - \"))\n",
    "UR = int(input(\"ENTER UNIVERSITY RANKING (out of 5) - \"))\n",
    "SOP = int(input(\"ENTER SOP STRENGTH (out of 5) - \"))\n",
    "LOR = int(input(\"ENTER LOR STRENGTH (out of 5) - \"))\n",
    "CGPA = float(input(\"ENTER CGPA SCORE (out of 10) - \"))\n",
    "Research = int(input(\"ENTER 1 IF RESEARCH PAPERS ARE PUBLISHED. ENTER 0 OTHERWISE - \"))\n",
    "\n",
    "input_vector = input_vector.append({'GRE': GRE, 'TOEFL': TOEFL, 'UR': UR, 'SOP': SOP, 'LOR': LOR, 'CGPA': CGPA, 'Research': Research}, ignore_index=True)\n",
    "\n",
    "predict = model.predict(input_vector)\n",
    "\n",
    "print()\n",
    "print(\"The Chances of Your Admit are : \", end='')\n",
    "if predict[0] == 2:\n",
    "    print(\"SAFE\")\n",
    "elif predict[0] == 1:\n",
    "    print(\"MODERATE\")\n",
    "elif predict[0] == 0:\n",
    "    print(\"AMBITIOUS\")"
   ]
  }
 ],
 "metadata": {
  "kernelspec": {
   "display_name": "Python 3",
   "language": "python",
   "name": "python3"
  },
  "language_info": {
   "codemirror_mode": {
    "name": "ipython",
    "version": 3
   },
   "file_extension": ".py",
   "mimetype": "text/x-python",
   "name": "python",
   "nbconvert_exporter": "python",
   "pygments_lexer": "ipython3",
   "version": "3.7.3"
  }
 },
 "nbformat": 4,
 "nbformat_minor": 2
}
